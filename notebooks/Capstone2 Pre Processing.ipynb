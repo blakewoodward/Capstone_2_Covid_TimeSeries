{
 "cells": [
  {
   "cell_type": "code",
   "execution_count": 1,
   "id": "555382a1",
   "metadata": {},
   "outputs": [],
   "source": [
    "import pandas as pd\n",
    "import numpy as np\n",
    "import matplotlib.pyplot as plt\n",
    "from datetime import timedelta\n",
    "from sklearn.preprocessing import MinMaxScaler\n",
    "pd.options.mode.chained_assignment = None"
   ]
  },
  {
   "cell_type": "code",
   "execution_count": 2,
   "id": "dca53450",
   "metadata": {},
   "outputs": [],
   "source": [
    "df = pd.read_csv(r\"C:\\Users\\blake\\Documents\\Springboard\\Github\\Capstone2\\Covid_Final\\Capstone_2_Covid_TimeSeries\\data\\cleaned\\may_Wrangled_CA.csv\", index_col='date', parse_dates=True)"
   ]
  },
  {
   "cell_type": "code",
   "execution_count": 3,
   "id": "d0d55fff",
   "metadata": {},
   "outputs": [
    {
     "name": "stdout",
     "output_type": "stream",
     "text": [
      "<class 'pandas.core.frame.DataFrame'>\n",
      "DatetimeIndex: 840 entries, 2020-01-25 to 2022-05-13\n",
      "Data columns (total 6 columns):\n",
      " #   Column         Non-Null Count  Dtype  \n",
      "---  ------         --------------  -----  \n",
      " 0   state          840 non-null    object \n",
      " 1   cases          840 non-null    int64  \n",
      " 2   deaths         840 non-null    float64\n",
      " 3   new_cases      840 non-null    float64\n",
      " 4   pct_change     839 non-null    float64\n",
      " 5   seven_day_ave  840 non-null    float64\n",
      "dtypes: float64(4), int64(1), object(1)\n",
      "memory usage: 45.9+ KB\n"
     ]
    }
   ],
   "source": [
    "df.info()"
   ]
  },
  {
   "cell_type": "markdown",
   "id": "b938fe96",
   "metadata": {},
   "source": [
    "### Split data into test and train sets"
   ]
  },
  {
   "cell_type": "markdown",
   "id": "24f0e6f4",
   "metadata": {},
   "source": [
    "Spliting data into train and test sets is different for timeseries data. Since predictions are based on previous observations the data cannot be split randomly."
   ]
  },
  {
   "cell_type": "code",
   "execution_count": 4,
   "id": "8239f287",
   "metadata": {},
   "outputs": [],
   "source": [
    "def split_feature(df, test_size):\n",
    "    '''\n",
    "    Define a function that takes a df and a train size then splits the data into train and test \n",
    "    sets based on a given number of days. Instead of creating two seperate df for each currency this \n",
    "    function will add a feature for either 'train' or 'test' to each df So the data can be saved as \n",
    "    one file and then seperated for use.\n",
    "    '''\n",
    "    \n",
    "    cutoff_date = df.index.max() - timedelta(days=test_size)\n",
    "    \n",
    "    df['split'] = 'test'\n",
    "    df.loc[df.index<=cutoff_date, 'split'] = 'train'\n",
    "    return df"
   ]
  },
  {
   "cell_type": "code",
   "execution_count": 5,
   "id": "50ba5714",
   "metadata": {},
   "outputs": [],
   "source": [
    "# Split the data into 90% train, 10% test, this will have the test set be just over 2 months long\n",
    "df = split_feature(df, 30)"
   ]
  },
  {
   "cell_type": "code",
   "execution_count": 6,
   "id": "cba93f7b",
   "metadata": {},
   "outputs": [
    {
     "data": {
      "text/plain": [
       "(30, 810)"
      ]
     },
     "execution_count": 6,
     "metadata": {},
     "output_type": "execute_result"
    }
   ],
   "source": [
    "# Sanity check\n",
    "df.loc[df.split=='test'].shape[0], df.loc[df.split=='train'].shape[0]"
   ]
  },
  {
   "cell_type": "code",
   "execution_count": 7,
   "id": "654b237e",
   "metadata": {},
   "outputs": [],
   "source": [
    "# Export data\n",
    "df.to_csv(r'C:\\Users\\blake\\Documents\\Springboard\\Github\\Capstone2\\Covid_Final\\Capstone_2_Covid_TimeSeries\\data\\modeling\\may_CA_only_modeling_data.csv')"
   ]
  },
  {
   "cell_type": "code",
   "execution_count": null,
   "id": "d6992cdd",
   "metadata": {},
   "outputs": [],
   "source": []
  }
 ],
 "metadata": {
  "kernelspec": {
   "display_name": "capstone2_venv",
   "language": "python",
   "name": "capstone2_venv"
  },
  "language_info": {
   "codemirror_mode": {
    "name": "ipython",
    "version": 3
   },
   "file_extension": ".py",
   "mimetype": "text/x-python",
   "name": "python",
   "nbconvert_exporter": "python",
   "pygments_lexer": "ipython3",
   "version": "3.9.7"
  }
 },
 "nbformat": 4,
 "nbformat_minor": 5
}
