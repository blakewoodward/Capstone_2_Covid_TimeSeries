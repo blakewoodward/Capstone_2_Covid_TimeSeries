{
 "cells": [
  {
   "cell_type": "code",
   "execution_count": 1,
   "id": "a48e8148",
   "metadata": {},
   "outputs": [],
   "source": [
    "import numpy as np\n",
    "import pandas as pd\n",
    "import matplotlib.pyplot as plt\n",
    "import seaborn as sns\n",
    "pd.options.mode.chained_assignment = None\n",
    "sns.set()"
   ]
  },
  {
   "cell_type": "code",
   "execution_count": 2,
   "id": "17faaada",
   "metadata": {},
   "outputs": [],
   "source": [
    "# Import data\n",
    "data = pd.read_csv(r'C:\\Users\\blake\\Documents\\Springboard\\Github\\Capstone2\\Covid_Final\\Capstone_2_Covid_TimeSeries\\data\\raw\\may-us-counties.csv', index_col='date', parse_dates=True)"
   ]
  },
  {
   "cell_type": "code",
   "execution_count": 5,
   "id": "25d6c4fe",
   "metadata": {},
   "outputs": [
    {
     "name": "stdout",
     "output_type": "stream",
     "text": [
      "<class 'pandas.core.frame.DataFrame'>\n",
      "DatetimeIndex: 2502832 entries, 2020-01-21 to 2022-05-13\n",
      "Data columns (total 5 columns):\n",
      " #   Column  Dtype  \n",
      "---  ------  -----  \n",
      " 0   county  object \n",
      " 1   state   object \n",
      " 2   fips    float64\n",
      " 3   cases   int64  \n",
      " 4   deaths  float64\n",
      "dtypes: float64(2), int64(1), object(2)\n",
      "memory usage: 114.6+ MB\n"
     ]
    }
   ],
   "source": [
    "data.info()"
   ]
  },
  {
   "cell_type": "markdown",
   "id": "11493640",
   "metadata": {},
   "source": [
    "Data is initailly segmented on a county level, will need to be grouped and then filtered by state for analysis."
   ]
  },
  {
   "cell_type": "markdown",
   "id": "f6efa43d",
   "metadata": {},
   "source": [
    "### Examine Data"
   ]
  },
  {
   "cell_type": "code",
   "execution_count": 6,
   "id": "c5e93d67",
   "metadata": {},
   "outputs": [
    {
     "data": {
      "text/html": [
       "<div>\n",
       "<style scoped>\n",
       "    .dataframe tbody tr th:only-of-type {\n",
       "        vertical-align: middle;\n",
       "    }\n",
       "\n",
       "    .dataframe tbody tr th {\n",
       "        vertical-align: top;\n",
       "    }\n",
       "\n",
       "    .dataframe thead th {\n",
       "        text-align: right;\n",
       "    }\n",
       "</style>\n",
       "<table border=\"1\" class=\"dataframe\">\n",
       "  <thead>\n",
       "    <tr style=\"text-align: right;\">\n",
       "      <th></th>\n",
       "      <th>fips</th>\n",
       "      <th>cases</th>\n",
       "      <th>deaths</th>\n",
       "    </tr>\n",
       "  </thead>\n",
       "  <tbody>\n",
       "    <tr>\n",
       "      <th>count</th>\n",
       "      <td>2.479154e+06</td>\n",
       "      <td>2.502832e+06</td>\n",
       "      <td>2.445227e+06</td>\n",
       "    </tr>\n",
       "    <tr>\n",
       "      <th>mean</th>\n",
       "      <td>3.139958e+04</td>\n",
       "      <td>1.003380e+04</td>\n",
       "      <td>1.616100e+02</td>\n",
       "    </tr>\n",
       "    <tr>\n",
       "      <th>std</th>\n",
       "      <td>1.634251e+04</td>\n",
       "      <td>4.752522e+04</td>\n",
       "      <td>8.203335e+02</td>\n",
       "    </tr>\n",
       "    <tr>\n",
       "      <th>min</th>\n",
       "      <td>1.001000e+03</td>\n",
       "      <td>0.000000e+00</td>\n",
       "      <td>0.000000e+00</td>\n",
       "    </tr>\n",
       "    <tr>\n",
       "      <th>25%</th>\n",
       "      <td>1.902300e+04</td>\n",
       "      <td>3.820000e+02</td>\n",
       "      <td>6.000000e+00</td>\n",
       "    </tr>\n",
       "    <tr>\n",
       "      <th>50%</th>\n",
       "      <td>3.001100e+04</td>\n",
       "      <td>1.773000e+03</td>\n",
       "      <td>3.300000e+01</td>\n",
       "    </tr>\n",
       "    <tr>\n",
       "      <th>75%</th>\n",
       "      <td>4.611100e+04</td>\n",
       "      <td>5.884000e+03</td>\n",
       "      <td>1.010000e+02</td>\n",
       "    </tr>\n",
       "    <tr>\n",
       "      <th>max</th>\n",
       "      <td>7.803000e+04</td>\n",
       "      <td>2.908425e+06</td>\n",
       "      <td>4.026700e+04</td>\n",
       "    </tr>\n",
       "  </tbody>\n",
       "</table>\n",
       "</div>"
      ],
      "text/plain": [
       "               fips         cases        deaths\n",
       "count  2.479154e+06  2.502832e+06  2.445227e+06\n",
       "mean   3.139958e+04  1.003380e+04  1.616100e+02\n",
       "std    1.634251e+04  4.752522e+04  8.203335e+02\n",
       "min    1.001000e+03  0.000000e+00  0.000000e+00\n",
       "25%    1.902300e+04  3.820000e+02  6.000000e+00\n",
       "50%    3.001100e+04  1.773000e+03  3.300000e+01\n",
       "75%    4.611100e+04  5.884000e+03  1.010000e+02\n",
       "max    7.803000e+04  2.908425e+06  4.026700e+04"
      ]
     },
     "execution_count": 6,
     "metadata": {},
     "output_type": "execute_result"
    }
   ],
   "source": [
    "data.describe()"
   ]
  },
  {
   "cell_type": "markdown",
   "id": "34d947e8",
   "metadata": {},
   "source": [
    "#### Check for missing values"
   ]
  },
  {
   "cell_type": "code",
   "execution_count": 7,
   "id": "f2867a21",
   "metadata": {},
   "outputs": [
    {
     "data": {
      "text/plain": [
       "county        0\n",
       "state         0\n",
       "fips      23678\n",
       "cases         0\n",
       "deaths    57605\n",
       "dtype: int64"
      ]
     },
     "execution_count": 7,
     "metadata": {},
     "output_type": "execute_result"
    }
   ],
   "source": [
    "data.isna().sum()"
   ]
  },
  {
   "cell_type": "code",
   "execution_count": 8,
   "id": "d2ad0ceb",
   "metadata": {},
   "outputs": [
    {
     "data": {
      "text/plain": [
       "Puerto Rico    57605\n",
       "Name: state, dtype: int64"
      ]
     },
     "execution_count": 8,
     "metadata": {},
     "output_type": "execute_result"
    }
   ],
   "source": [
    "# Examine NA values for deaths\n",
    "na_deaths = data.loc[data.deaths.isna()]\n",
    "na_deaths.state.value_counts()"
   ]
  },
  {
   "cell_type": "markdown",
   "id": "a953e0ff",
   "metadata": {},
   "source": [
    "All the NA values for deaths come from Pureto Rico. These NA value will be filled in with 0."
   ]
  },
  {
   "cell_type": "markdown",
   "id": "0bc8f9f0",
   "metadata": {},
   "source": [
    "After looking at the Puerto Rico data more closely, it seems they counted covid cases and deaths cumulatively first by the entire island, then on 2020-05-05 they switched to counting by county. This won't affect my analysis since I will be grouping values by date for modeling, so I don't really care about the county distinction."
   ]
  },
  {
   "cell_type": "code",
   "execution_count": 9,
   "id": "a8c00014",
   "metadata": {},
   "outputs": [
    {
     "data": {
      "text/plain": [
       "county        0\n",
       "state         0\n",
       "fips      23678\n",
       "cases         0\n",
       "deaths        0\n",
       "dtype: int64"
      ]
     },
     "execution_count": 9,
     "metadata": {},
     "output_type": "execute_result"
    }
   ],
   "source": [
    "data['deaths'].fillna(0, inplace=True)\n",
    "data.isna().sum()"
   ]
  },
  {
   "cell_type": "code",
   "execution_count": 10,
   "id": "dd60ffb2",
   "metadata": {},
   "outputs": [
    {
     "data": {
      "text/plain": [
       "Unknown          21401\n",
       "New York City      804\n",
       "Kansas City        785\n",
       "Joplin             688\n",
       "Name: county, dtype: int64"
      ]
     },
     "execution_count": 10,
     "metadata": {},
     "output_type": "execute_result"
    }
   ],
   "source": [
    "# Examine NA values for fips\n",
    "na_fips = data.loc[data.fips.isna()]\n",
    "na_fips.county.value_counts()"
   ]
  },
  {
   "cell_type": "code",
   "execution_count": 11,
   "id": "7310e11d",
   "metadata": {},
   "outputs": [
    {
     "data": {
      "text/html": [
       "<div>\n",
       "<style scoped>\n",
       "    .dataframe tbody tr th:only-of-type {\n",
       "        vertical-align: middle;\n",
       "    }\n",
       "\n",
       "    .dataframe tbody tr th {\n",
       "        vertical-align: top;\n",
       "    }\n",
       "\n",
       "    .dataframe thead th {\n",
       "        text-align: right;\n",
       "    }\n",
       "</style>\n",
       "<table border=\"1\" class=\"dataframe\">\n",
       "  <thead>\n",
       "    <tr style=\"text-align: right;\">\n",
       "      <th></th>\n",
       "      <th>fips</th>\n",
       "      <th>cases</th>\n",
       "      <th>deaths</th>\n",
       "    </tr>\n",
       "  </thead>\n",
       "  <tbody>\n",
       "    <tr>\n",
       "      <th>count</th>\n",
       "      <td>0.0</td>\n",
       "      <td>21401.000000</td>\n",
       "      <td>21401.000000</td>\n",
       "    </tr>\n",
       "    <tr>\n",
       "      <th>mean</th>\n",
       "      <td>NaN</td>\n",
       "      <td>4795.763189</td>\n",
       "      <td>149.001402</td>\n",
       "    </tr>\n",
       "    <tr>\n",
       "      <th>std</th>\n",
       "      <td>NaN</td>\n",
       "      <td>15090.090288</td>\n",
       "      <td>589.585606</td>\n",
       "    </tr>\n",
       "    <tr>\n",
       "      <th>min</th>\n",
       "      <td>NaN</td>\n",
       "      <td>0.000000</td>\n",
       "      <td>0.000000</td>\n",
       "    </tr>\n",
       "    <tr>\n",
       "      <th>25%</th>\n",
       "      <td>NaN</td>\n",
       "      <td>16.000000</td>\n",
       "      <td>0.000000</td>\n",
       "    </tr>\n",
       "    <tr>\n",
       "      <th>50%</th>\n",
       "      <td>NaN</td>\n",
       "      <td>569.000000</td>\n",
       "      <td>4.000000</td>\n",
       "    </tr>\n",
       "    <tr>\n",
       "      <th>75%</th>\n",
       "      <td>NaN</td>\n",
       "      <td>2985.000000</td>\n",
       "      <td>36.000000</td>\n",
       "    </tr>\n",
       "    <tr>\n",
       "      <th>max</th>\n",
       "      <td>NaN</td>\n",
       "      <td>370566.000000</td>\n",
       "      <td>11799.000000</td>\n",
       "    </tr>\n",
       "  </tbody>\n",
       "</table>\n",
       "</div>"
      ],
      "text/plain": [
       "       fips          cases        deaths\n",
       "count   0.0   21401.000000  21401.000000\n",
       "mean    NaN    4795.763189    149.001402\n",
       "std     NaN   15090.090288    589.585606\n",
       "min     NaN       0.000000      0.000000\n",
       "25%     NaN      16.000000      0.000000\n",
       "50%     NaN     569.000000      4.000000\n",
       "75%     NaN    2985.000000     36.000000\n",
       "max     NaN  370566.000000  11799.000000"
      ]
     },
     "execution_count": 11,
     "metadata": {},
     "output_type": "execute_result"
    }
   ],
   "source": [
    "unknown_fips = na_fips.loc[na_fips.county=='Unknown']\n",
    "unknown_fips.describe()"
   ]
  },
  {
   "cell_type": "markdown",
   "id": "b25f5889",
   "metadata": {},
   "source": [
    "The unknown counties don't seem to be a problem. The values for cases and deaths seem reasonable."
   ]
  },
  {
   "cell_type": "code",
   "execution_count": 12,
   "id": "9496c54b",
   "metadata": {},
   "outputs": [
    {
     "name": "stdout",
     "output_type": "stream",
     "text": [
      "New York City count: 804\n",
      "Kansas City count: 785\n",
      "Joplin count: 688\n"
     ]
    }
   ],
   "source": [
    "for i in ['New York City', 'Kansas City', 'Joplin']:\n",
    "    print('{} count: {}'.format(i, len(data.loc[data.county==i])))"
   ]
  },
  {
   "cell_type": "markdown",
   "id": "eea25016",
   "metadata": {},
   "source": [
    "Since the total number of entries in the data for the above three cities is equal to the number of missin fips value for each of them, its safe to say that the fips codes for these three counties were never provided for some reason."
   ]
  },
  {
   "cell_type": "code",
   "execution_count": 13,
   "id": "c24f97b9",
   "metadata": {},
   "outputs": [
    {
     "data": {
      "text/html": [
       "<div>\n",
       "<style scoped>\n",
       "    .dataframe tbody tr th:only-of-type {\n",
       "        vertical-align: middle;\n",
       "    }\n",
       "\n",
       "    .dataframe tbody tr th {\n",
       "        vertical-align: top;\n",
       "    }\n",
       "\n",
       "    .dataframe thead th {\n",
       "        text-align: right;\n",
       "    }\n",
       "</style>\n",
       "<table border=\"1\" class=\"dataframe\">\n",
       "  <thead>\n",
       "    <tr style=\"text-align: right;\">\n",
       "      <th></th>\n",
       "      <th>fips</th>\n",
       "      <th>cases</th>\n",
       "      <th>deaths</th>\n",
       "    </tr>\n",
       "  </thead>\n",
       "  <tbody>\n",
       "    <tr>\n",
       "      <th>count</th>\n",
       "      <td>0.0</td>\n",
       "      <td>2.277000e+03</td>\n",
       "      <td>2277.000000</td>\n",
       "    </tr>\n",
       "    <tr>\n",
       "      <th>mean</th>\n",
       "      <td>NaN</td>\n",
       "      <td>3.286680e+05</td>\n",
       "      <td>10322.650417</td>\n",
       "    </tr>\n",
       "    <tr>\n",
       "      <th>std</th>\n",
       "      <td>NaN</td>\n",
       "      <td>5.874767e+05</td>\n",
       "      <td>14550.647069</td>\n",
       "    </tr>\n",
       "    <tr>\n",
       "      <th>min</th>\n",
       "      <td>NaN</td>\n",
       "      <td>1.000000e+00</td>\n",
       "      <td>0.000000</td>\n",
       "    </tr>\n",
       "    <tr>\n",
       "      <th>25%</th>\n",
       "      <td>NaN</td>\n",
       "      <td>7.535000e+03</td>\n",
       "      <td>109.000000</td>\n",
       "    </tr>\n",
       "    <tr>\n",
       "      <th>50%</th>\n",
       "      <td>NaN</td>\n",
       "      <td>4.399000e+04</td>\n",
       "      <td>575.000000</td>\n",
       "    </tr>\n",
       "    <tr>\n",
       "      <th>75%</th>\n",
       "      <td>NaN</td>\n",
       "      <td>2.607620e+05</td>\n",
       "      <td>23949.000000</td>\n",
       "    </tr>\n",
       "    <tr>\n",
       "      <th>max</th>\n",
       "      <td>NaN</td>\n",
       "      <td>2.422658e+06</td>\n",
       "      <td>40267.000000</td>\n",
       "    </tr>\n",
       "  </tbody>\n",
       "</table>\n",
       "</div>"
      ],
      "text/plain": [
       "       fips         cases        deaths\n",
       "count   0.0  2.277000e+03   2277.000000\n",
       "mean    NaN  3.286680e+05  10322.650417\n",
       "std     NaN  5.874767e+05  14550.647069\n",
       "min     NaN  1.000000e+00      0.000000\n",
       "25%     NaN  7.535000e+03    109.000000\n",
       "50%     NaN  4.399000e+04    575.000000\n",
       "75%     NaN  2.607620e+05  23949.000000\n",
       "max     NaN  2.422658e+06  40267.000000"
      ]
     },
     "execution_count": 13,
     "metadata": {},
     "output_type": "execute_result"
    }
   ],
   "source": [
    "na_fips.loc[na_fips.county!='Unknown'].describe()"
   ]
  },
  {
   "cell_type": "markdown",
   "id": "c73adf06",
   "metadata": {},
   "source": [
    "The values for these entries are very high, higher on average than the rest of the data. This is because New York is included in the data, since New York got hit the hardest in the US. Based on this, these values seems fine to keep."
   ]
  },
  {
   "cell_type": "markdown",
   "id": "be3d0403",
   "metadata": {},
   "source": [
    "## Cleaning and Preporcessing"
   ]
  },
  {
   "cell_type": "code",
   "execution_count": 14,
   "id": "91959e0f",
   "metadata": {},
   "outputs": [],
   "source": [
    "# Remove unecissary columns\n",
    "data.drop(columns=['county', 'fips'], inplace=True)"
   ]
  },
  {
   "cell_type": "code",
   "execution_count": 15,
   "id": "f82ab352",
   "metadata": {},
   "outputs": [],
   "source": [
    "# Group data by date and state\n",
    "state_data = data.groupby(['date', 'state'])[['cases', 'deaths']].sum()\n",
    "state_data.reset_index(level='state', inplace=True)"
   ]
  },
  {
   "cell_type": "markdown",
   "id": "bbe84047",
   "metadata": {},
   "source": [
    "Now that we have the cumulative case and death counts by day, we need to take the difference between days to get the daily change."
   ]
  },
  {
   "cell_type": "code",
   "execution_count": 16,
   "id": "76f1f666",
   "metadata": {},
   "outputs": [
    {
     "data": {
      "text/html": [
       "<div>\n",
       "<style scoped>\n",
       "    .dataframe tbody tr th:only-of-type {\n",
       "        vertical-align: middle;\n",
       "    }\n",
       "\n",
       "    .dataframe tbody tr th {\n",
       "        vertical-align: top;\n",
       "    }\n",
       "\n",
       "    .dataframe thead th {\n",
       "        text-align: right;\n",
       "    }\n",
       "</style>\n",
       "<table border=\"1\" class=\"dataframe\">\n",
       "  <thead>\n",
       "    <tr style=\"text-align: right;\">\n",
       "      <th></th>\n",
       "      <th>state</th>\n",
       "      <th>cases</th>\n",
       "      <th>deaths</th>\n",
       "    </tr>\n",
       "    <tr>\n",
       "      <th>date</th>\n",
       "      <th></th>\n",
       "      <th></th>\n",
       "      <th></th>\n",
       "    </tr>\n",
       "  </thead>\n",
       "  <tbody>\n",
       "    <tr>\n",
       "      <th>2020-01-21</th>\n",
       "      <td>Washington</td>\n",
       "      <td>1</td>\n",
       "      <td>0.0</td>\n",
       "    </tr>\n",
       "    <tr>\n",
       "      <th>2020-01-22</th>\n",
       "      <td>Washington</td>\n",
       "      <td>1</td>\n",
       "      <td>0.0</td>\n",
       "    </tr>\n",
       "    <tr>\n",
       "      <th>2020-01-23</th>\n",
       "      <td>Washington</td>\n",
       "      <td>1</td>\n",
       "      <td>0.0</td>\n",
       "    </tr>\n",
       "    <tr>\n",
       "      <th>2020-01-24</th>\n",
       "      <td>Illinois</td>\n",
       "      <td>1</td>\n",
       "      <td>0.0</td>\n",
       "    </tr>\n",
       "    <tr>\n",
       "      <th>2020-01-24</th>\n",
       "      <td>Washington</td>\n",
       "      <td>1</td>\n",
       "      <td>0.0</td>\n",
       "    </tr>\n",
       "  </tbody>\n",
       "</table>\n",
       "</div>"
      ],
      "text/plain": [
       "                 state  cases  deaths\n",
       "date                                 \n",
       "2020-01-21  Washington      1     0.0\n",
       "2020-01-22  Washington      1     0.0\n",
       "2020-01-23  Washington      1     0.0\n",
       "2020-01-24    Illinois      1     0.0\n",
       "2020-01-24  Washington      1     0.0"
      ]
     },
     "execution_count": 16,
     "metadata": {},
     "output_type": "execute_result"
    }
   ],
   "source": [
    "state_data.head()"
   ]
  },
  {
   "cell_type": "markdown",
   "id": "d36cc0fb",
   "metadata": {},
   "source": [
    "For this project I will be focussing on data for the state of california exclusively"
   ]
  },
  {
   "cell_type": "code",
   "execution_count": 17,
   "id": "b71daf7c",
   "metadata": {},
   "outputs": [
    {
     "data": {
      "text/plain": [
       "(840, 5)"
      ]
     },
     "execution_count": 17,
     "metadata": {},
     "output_type": "execute_result"
    }
   ],
   "source": [
    "ca_data = state_data.loc[state_data.state=='California', :]\n",
    "ca_data['new_cases'] = ca_data['cases'].diff().fillna(1)\n",
    "ca_data['pct_change'] = ca_data['cases'].pct_change(periods=1)\n",
    "ca_data.shape"
   ]
  },
  {
   "cell_type": "markdown",
   "id": "75eff9e7",
   "metadata": {},
   "source": [
    "Finaly a rolling window will be used to calculate the 7 day average for daily new cases. The average will be caluculted with each record being the center of its calculation. I will also set the minimun number of periods for a calcultion to 4 so that there is no data loss."
   ]
  },
  {
   "cell_type": "markdown",
   "id": "f5b546d5",
   "metadata": {},
   "source": [
    "Using the seven day average will smooth out the time series, removing some of the excess noise."
   ]
  },
  {
   "cell_type": "code",
   "execution_count": 18,
   "id": "acaac9db",
   "metadata": {},
   "outputs": [
    {
     "data": {
      "text/plain": [
       "(840, 6)"
      ]
     },
     "execution_count": 18,
     "metadata": {},
     "output_type": "execute_result"
    }
   ],
   "source": [
    "# Smooth data using rolling window to get seven day average\n",
    "ca_data['seven_day_ave'] = ca_data['new_cases'].rolling(7, min_periods=4, center=True).mean()\n",
    "ca_data.shape"
   ]
  },
  {
   "cell_type": "code",
   "execution_count": 19,
   "id": "fa76f1cf",
   "metadata": {},
   "outputs": [
    {
     "data": {
      "text/plain": [
       "(                 state  cases  deaths  new_cases  pct_change  seven_day_ave\n",
       " date                                                                       \n",
       " 2020-01-25  California      1     0.0        1.0         NaN       0.500000\n",
       " 2020-01-26  California      2     0.0        1.0         1.0       0.400000\n",
       " 2020-01-27  California      2     0.0        0.0         0.0       0.333333\n",
       " 2020-01-28  California      2     0.0        0.0         0.0       0.428571\n",
       " 2020-01-29  California      2     0.0        0.0         0.0       0.285714,\n",
       "                  state    cases   deaths  new_cases  pct_change  seven_day_ave\n",
       " date                                                                          \n",
       " 2022-05-09  California  9297615  90712.0     7060.0    0.000760    8700.000000\n",
       " 2022-05-10  California  9322169  90822.0    24554.0    0.002641    8728.285714\n",
       " 2022-05-11  California  9325522  90804.0     3353.0    0.000360   10179.166667\n",
       " 2022-05-12  California  9329044  90818.0     3522.0    0.000378   12215.000000\n",
       " 2022-05-13  California  9351630  90959.0    22586.0    0.002421   13503.750000)"
      ]
     },
     "execution_count": 19,
     "metadata": {},
     "output_type": "execute_result"
    }
   ],
   "source": [
    "ca_data.head(), ca_data.tail()"
   ]
  },
  {
   "cell_type": "markdown",
   "id": "9d00d8fb",
   "metadata": {},
   "source": [
    "## Visualize Data"
   ]
  },
  {
   "cell_type": "code",
   "execution_count": 20,
   "id": "9e966ff4",
   "metadata": {},
   "outputs": [
    {
     "data": {
      "image/png": "[encoded data removed]",
      "text/plain": [
       "<Figure size 1152x576 with 2 Axes>"
      ]
     },
     "metadata": {},
     "output_type": "display_data"
    }
   ],
   "source": [
    "# Create boxplot and histogram for new case distributions\n",
    "fig, ax = plt.subplots(1,2, figsize=(16,8))\n",
    "ax[0].boxplot(x=ca_data.seven_day_ave, vert=False)\n",
    "ax[0].set_xlabel('Daily New Cases in CA in Millions')\n",
    "ax[1].hist(x=ca_data.seven_day_ave, bins=15)\n",
    "ax[1].set_xlabel('Daily New Cases in CA in Millions')\n",
    "plt.show()"
   ]
  },
  {
   "cell_type": "markdown",
   "id": "f1c8424e",
   "metadata": {},
   "source": [
    "The data is not normaly distributed, and appears to be heavily skewed to the right. This shouldn't be a problem since neither of the models I will be using require the data to normaly distributed."
   ]
  },
  {
   "cell_type": "code",
   "execution_count": 21,
   "id": "218a2c9e",
   "metadata": {},
   "outputs": [
    {
     "data": {
      "text/plain": [
       "<seaborn.axisgrid.FacetGrid at 0x1de38d8b9a0>"
      ]
     },
     "execution_count": 21,
     "metadata": {},
     "output_type": "execute_result"
    },
    {
     "data": {
      "image/png": "[encoded data removed]",
      "text/plain": [
       "<Figure size 720x360 with 1 Axes>"
      ]
     },
     "metadata": {},
     "output_type": "display_data"
    }
   ],
   "source": [
    "sns.relplot(kind='line', data=ca_data, x=ca_data.index, y='new_cases', aspect=2)"
   ]
  },
  {
   "cell_type": "code",
   "execution_count": 22,
   "id": "01d1cf91",
   "metadata": {},
   "outputs": [
    {
     "data": {
      "text/plain": [
       "<seaborn.axisgrid.FacetGrid at 0x1de3ed20c70>"
      ]
     },
     "execution_count": 22,
     "metadata": {},
     "output_type": "execute_result"
    },
    {
     "data": {
      "image/png": "[encoded data removed]",
      "text/plain": [
       "<Figure size 720x360 with 1 Axes>"
      ]
     },
     "metadata": {},
     "output_type": "display_data"
    }
   ],
   "source": [
    "sns.relplot(kind='line', data=ca_data, x=ca_data.index, y='seven_day_ave', aspect=2)"
   ]
  },
  {
   "cell_type": "code",
   "execution_count": 24,
   "id": "c1fda568",
   "metadata": {},
   "outputs": [],
   "source": [
    "ca_data.to_csv(r'C:\\Users\\blake\\Documents\\Springboard\\Github\\Capstone2\\Covid_Final\\Capstone_2_Covid_TimeSeries\\data\\cleaned\\may_Wrangled_CA.csv')"
   ]
  },
  {
   "cell_type": "markdown",
   "id": "f3c35f0c",
   "metadata": {},
   "source": [
    "# Import Hospitalization Data"
   ]
  },
  {
   "cell_type": "code",
   "execution_count": 3,
   "id": "648894f1",
   "metadata": {},
   "outputs": [],
   "source": [
    "hospital_data = pd.read_csv(r'C:\\Users\\blake\\Documents\\Springboard\\Github\\Capstone2\\Covid_Final\\Capstone_2_Covid_TimeSeries\\data\\raw\\Hospital_data.csv')"
   ]
  },
  {
   "cell_type": "code",
   "execution_count": 4,
   "id": "1cd1ff80",
   "metadata": {},
   "outputs": [],
   "source": [
    "# Remove unnecissary columns from hospital data and isolate CA info\n",
    "hospital_data = hospital_data[['collection_week', 'state', 'inpatient_beds_7_day_avg', 'inpatient_beds_used_7_day_avg', 'inpatient_beds_used_covid_7_day_avg']]\n",
    "hospital_ca = hospital_data.loc[hospital_data.state=='CA']"
   ]
  },
  {
   "cell_type": "code",
   "execution_count": 5,
   "id": "bb681520",
   "metadata": {},
   "outputs": [
    {
     "name": "stdout",
     "output_type": "stream",
     "text": [
      "<class 'pandas.core.frame.DataFrame'>\n",
      "Int64Index: 24754 entries, 56 to 345770\n",
      "Data columns (total 5 columns):\n",
      " #   Column                               Non-Null Count  Dtype  \n",
      "---  ------                               --------------  -----  \n",
      " 0   collection_week                      24754 non-null  object \n",
      " 1   state                                24754 non-null  object \n",
      " 2   inpatient_beds_7_day_avg             24748 non-null  float64\n",
      " 3   inpatient_beds_used_7_day_avg        24748 non-null  float64\n",
      " 4   inpatient_beds_used_covid_7_day_avg  24741 non-null  float64\n",
      "dtypes: float64(3), object(2)\n",
      "memory usage: 1.1+ MB\n"
     ]
    }
   ],
   "source": [
    "hospital_ca.info()"
   ]
  },
  {
   "cell_type": "code",
   "execution_count": 28,
   "id": "590eddd8",
   "metadata": {},
   "outputs": [
    {
     "data": {
      "text/html": [
       "<div>\n",
       "<style scoped>\n",
       "    .dataframe tbody tr th:only-of-type {\n",
       "        vertical-align: middle;\n",
       "    }\n",
       "\n",
       "    .dataframe tbody tr th {\n",
       "        vertical-align: top;\n",
       "    }\n",
       "\n",
       "    .dataframe thead th {\n",
       "        text-align: right;\n",
       "    }\n",
       "</style>\n",
       "<table border=\"1\" class=\"dataframe\">\n",
       "  <thead>\n",
       "    <tr style=\"text-align: right;\">\n",
       "      <th></th>\n",
       "      <th>inpatient_beds_7_day_avg</th>\n",
       "      <th>inpatient_beds_used_7_day_avg</th>\n",
       "      <th>inpatient_beds_used_covid_7_day_avg</th>\n",
       "    </tr>\n",
       "  </thead>\n",
       "  <tbody>\n",
       "    <tr>\n",
       "      <th>count</th>\n",
       "      <td>24748.000000</td>\n",
       "      <td>24748.000000</td>\n",
       "      <td>24741.000000</td>\n",
       "    </tr>\n",
       "    <tr>\n",
       "      <th>mean</th>\n",
       "      <td>-2535.535744</td>\n",
       "      <td>-33611.836904</td>\n",
       "      <td>-222609.353773</td>\n",
       "    </tr>\n",
       "    <tr>\n",
       "      <th>std</th>\n",
       "      <td>51971.305838</td>\n",
       "      <td>180586.892859</td>\n",
       "      <td>416026.485598</td>\n",
       "    </tr>\n",
       "    <tr>\n",
       "      <th>min</th>\n",
       "      <td>-999999.000000</td>\n",
       "      <td>-999999.000000</td>\n",
       "      <td>-999999.000000</td>\n",
       "    </tr>\n",
       "    <tr>\n",
       "      <th>25%</th>\n",
       "      <td>54.600000</td>\n",
       "      <td>38.300000</td>\n",
       "      <td>0.000000</td>\n",
       "    </tr>\n",
       "    <tr>\n",
       "      <th>50%</th>\n",
       "      <td>133.900000</td>\n",
       "      <td>98.900000</td>\n",
       "      <td>7.400000</td>\n",
       "    </tr>\n",
       "    <tr>\n",
       "      <th>75%</th>\n",
       "      <td>246.000000</td>\n",
       "      <td>188.000000</td>\n",
       "      <td>20.100000</td>\n",
       "    </tr>\n",
       "    <tr>\n",
       "      <th>max</th>\n",
       "      <td>1172.300000</td>\n",
       "      <td>857.600000</td>\n",
       "      <td>1297.700000</td>\n",
       "    </tr>\n",
       "  </tbody>\n",
       "</table>\n",
       "</div>"
      ],
      "text/plain": [
       "       inpatient_beds_7_day_avg  inpatient_beds_used_7_day_avg  \\\n",
       "count              24748.000000                   24748.000000   \n",
       "mean               -2535.535744                  -33611.836904   \n",
       "std                51971.305838                  180586.892859   \n",
       "min              -999999.000000                 -999999.000000   \n",
       "25%                   54.600000                      38.300000   \n",
       "50%                  133.900000                      98.900000   \n",
       "75%                  246.000000                     188.000000   \n",
       "max                 1172.300000                     857.600000   \n",
       "\n",
       "       inpatient_beds_used_covid_7_day_avg  \n",
       "count                         24741.000000  \n",
       "mean                        -222609.353773  \n",
       "std                          416026.485598  \n",
       "min                         -999999.000000  \n",
       "25%                               0.000000  \n",
       "50%                               7.400000  \n",
       "75%                              20.100000  \n",
       "max                            1297.700000  "
      ]
     },
     "execution_count": 28,
     "metadata": {},
     "output_type": "execute_result"
    }
   ],
   "source": [
    "hospital_ca.describe()"
   ]
  },
  {
   "cell_type": "code",
   "execution_count": 29,
   "id": "9e668623",
   "metadata": {},
   "outputs": [
    {
     "data": {
      "text/html": [
       "<div>\n",
       "<style scoped>\n",
       "    .dataframe tbody tr th:only-of-type {\n",
       "        vertical-align: middle;\n",
       "    }\n",
       "\n",
       "    .dataframe tbody tr th {\n",
       "        vertical-align: top;\n",
       "    }\n",
       "\n",
       "    .dataframe thead th {\n",
       "        text-align: right;\n",
       "    }\n",
       "</style>\n",
       "<table border=\"1\" class=\"dataframe\">\n",
       "  <thead>\n",
       "    <tr style=\"text-align: right;\">\n",
       "      <th></th>\n",
       "      <th>collection_week</th>\n",
       "      <th>state</th>\n",
       "      <th>inpatient_beds_7_day_avg</th>\n",
       "      <th>inpatient_beds_used_7_day_avg</th>\n",
       "      <th>inpatient_beds_used_covid_7_day_avg</th>\n",
       "    </tr>\n",
       "  </thead>\n",
       "  <tbody>\n",
       "    <tr>\n",
       "      <th>56</th>\n",
       "      <td>2021-07-02</td>\n",
       "      <td>CA</td>\n",
       "      <td>10.0</td>\n",
       "      <td>-999999.0</td>\n",
       "      <td>NaN</td>\n",
       "    </tr>\n",
       "    <tr>\n",
       "      <th>61</th>\n",
       "      <td>2021-06-18</td>\n",
       "      <td>CA</td>\n",
       "      <td>10.0</td>\n",
       "      <td>-999999.0</td>\n",
       "      <td>NaN</td>\n",
       "    </tr>\n",
       "    <tr>\n",
       "      <th>164</th>\n",
       "      <td>2021-02-05</td>\n",
       "      <td>CA</td>\n",
       "      <td>7.0</td>\n",
       "      <td>-999999.0</td>\n",
       "      <td>0.0</td>\n",
       "    </tr>\n",
       "    <tr>\n",
       "      <th>178</th>\n",
       "      <td>2021-01-22</td>\n",
       "      <td>CA</td>\n",
       "      <td>34.0</td>\n",
       "      <td>19.7</td>\n",
       "      <td>0.0</td>\n",
       "    </tr>\n",
       "    <tr>\n",
       "      <th>179</th>\n",
       "      <td>2021-01-22</td>\n",
       "      <td>CA</td>\n",
       "      <td>58.0</td>\n",
       "      <td>52.4</td>\n",
       "      <td>0.0</td>\n",
       "    </tr>\n",
       "  </tbody>\n",
       "</table>\n",
       "</div>"
      ],
      "text/plain": [
       "    collection_week state  inpatient_beds_7_day_avg  \\\n",
       "56       2021-07-02    CA                      10.0   \n",
       "61       2021-06-18    CA                      10.0   \n",
       "164      2021-02-05    CA                       7.0   \n",
       "178      2021-01-22    CA                      34.0   \n",
       "179      2021-01-22    CA                      58.0   \n",
       "\n",
       "     inpatient_beds_used_7_day_avg  inpatient_beds_used_covid_7_day_avg  \n",
       "56                       -999999.0                                  NaN  \n",
       "61                       -999999.0                                  NaN  \n",
       "164                      -999999.0                                  0.0  \n",
       "178                           19.7                                  0.0  \n",
       "179                           52.4                                  0.0  "
      ]
     },
     "execution_count": 29,
     "metadata": {},
     "output_type": "execute_result"
    }
   ],
   "source": [
    "hospital_ca.head()"
   ]
  },
  {
   "cell_type": "markdown",
   "id": "5f4a0b18",
   "metadata": {},
   "source": [
    "The data source indicates that values of -999999 are used for any averages lower than 4. I will replace these values with 0."
   ]
  },
  {
   "cell_type": "code",
   "execution_count": 30,
   "id": "452c0695",
   "metadata": {},
   "outputs": [],
   "source": [
    "hospital_ca.replace(to_replace={-999999:0}, inplace=True)"
   ]
  },
  {
   "cell_type": "code",
   "execution_count": 31,
   "id": "c4181b18",
   "metadata": {},
   "outputs": [
    {
     "data": {
      "text/html": [
       "<div>\n",
       "<style scoped>\n",
       "    .dataframe tbody tr th:only-of-type {\n",
       "        vertical-align: middle;\n",
       "    }\n",
       "\n",
       "    .dataframe tbody tr th {\n",
       "        vertical-align: top;\n",
       "    }\n",
       "\n",
       "    .dataframe thead th {\n",
       "        text-align: right;\n",
       "    }\n",
       "</style>\n",
       "<table border=\"1\" class=\"dataframe\">\n",
       "  <thead>\n",
       "    <tr style=\"text-align: right;\">\n",
       "      <th></th>\n",
       "      <th>collection_week</th>\n",
       "      <th>state</th>\n",
       "      <th>inpatient_beds_7_day_avg</th>\n",
       "      <th>inpatient_beds_used_7_day_avg</th>\n",
       "      <th>inpatient_beds_used_covid_7_day_avg</th>\n",
       "    </tr>\n",
       "  </thead>\n",
       "  <tbody>\n",
       "    <tr>\n",
       "      <th>326064</th>\n",
       "      <td>2020-08-21</td>\n",
       "      <td>CA</td>\n",
       "      <td>NaN</td>\n",
       "      <td>NaN</td>\n",
       "      <td>0.0</td>\n",
       "    </tr>\n",
       "    <tr>\n",
       "      <th>327294</th>\n",
       "      <td>2020-08-28</td>\n",
       "      <td>CA</td>\n",
       "      <td>NaN</td>\n",
       "      <td>NaN</td>\n",
       "      <td>0.0</td>\n",
       "    </tr>\n",
       "    <tr>\n",
       "      <th>337116</th>\n",
       "      <td>2020-08-14</td>\n",
       "      <td>CA</td>\n",
       "      <td>NaN</td>\n",
       "      <td>NaN</td>\n",
       "      <td>0.0</td>\n",
       "    </tr>\n",
       "    <tr>\n",
       "      <th>343199</th>\n",
       "      <td>2020-07-31</td>\n",
       "      <td>CA</td>\n",
       "      <td>NaN</td>\n",
       "      <td>NaN</td>\n",
       "      <td>0.0</td>\n",
       "    </tr>\n",
       "    <tr>\n",
       "      <th>344098</th>\n",
       "      <td>2020-08-07</td>\n",
       "      <td>CA</td>\n",
       "      <td>NaN</td>\n",
       "      <td>NaN</td>\n",
       "      <td>0.0</td>\n",
       "    </tr>\n",
       "    <tr>\n",
       "      <th>345304</th>\n",
       "      <td>2020-08-07</td>\n",
       "      <td>CA</td>\n",
       "      <td>NaN</td>\n",
       "      <td>NaN</td>\n",
       "      <td>0.0</td>\n",
       "    </tr>\n",
       "  </tbody>\n",
       "</table>\n",
       "</div>"
      ],
      "text/plain": [
       "       collection_week state  inpatient_beds_7_day_avg  \\\n",
       "326064      2020-08-21    CA                       NaN   \n",
       "327294      2020-08-28    CA                       NaN   \n",
       "337116      2020-08-14    CA                       NaN   \n",
       "343199      2020-07-31    CA                       NaN   \n",
       "344098      2020-08-07    CA                       NaN   \n",
       "345304      2020-08-07    CA                       NaN   \n",
       "\n",
       "        inpatient_beds_used_7_day_avg  inpatient_beds_used_covid_7_day_avg  \n",
       "326064                            NaN                                  0.0  \n",
       "327294                            NaN                                  0.0  \n",
       "337116                            NaN                                  0.0  \n",
       "343199                            NaN                                  0.0  \n",
       "344098                            NaN                                  0.0  \n",
       "345304                            NaN                                  0.0  "
      ]
     },
     "execution_count": 31,
     "metadata": {},
     "output_type": "execute_result"
    }
   ],
   "source": [
    "# Check na values\n",
    "hospital_ca.loc[hospital_ca.inpatient_beds_7_day_avg.isna(), :]"
   ]
  },
  {
   "cell_type": "markdown",
   "id": "427c8bd8",
   "metadata": {},
   "source": [
    "There are a total of 6 records with missing values for inpatient bed availability and occupancy, I will remove these values"
   ]
  },
  {
   "cell_type": "code",
   "execution_count": 32,
   "id": "ae2b0799",
   "metadata": {},
   "outputs": [
    {
     "data": {
      "text/html": [
       "<div>\n",
       "<style scoped>\n",
       "    .dataframe tbody tr th:only-of-type {\n",
       "        vertical-align: middle;\n",
       "    }\n",
       "\n",
       "    .dataframe tbody tr th {\n",
       "        vertical-align: top;\n",
       "    }\n",
       "\n",
       "    .dataframe thead th {\n",
       "        text-align: right;\n",
       "    }\n",
       "</style>\n",
       "<table border=\"1\" class=\"dataframe\">\n",
       "  <thead>\n",
       "    <tr style=\"text-align: right;\">\n",
       "      <th></th>\n",
       "      <th>collection_week</th>\n",
       "      <th>state</th>\n",
       "      <th>inpatient_beds_7_day_avg</th>\n",
       "      <th>inpatient_beds_used_7_day_avg</th>\n",
       "      <th>inpatient_beds_used_covid_7_day_avg</th>\n",
       "    </tr>\n",
       "  </thead>\n",
       "  <tbody>\n",
       "    <tr>\n",
       "      <th>56</th>\n",
       "      <td>2021-07-02</td>\n",
       "      <td>CA</td>\n",
       "      <td>10.0</td>\n",
       "      <td>0.0</td>\n",
       "      <td>NaN</td>\n",
       "    </tr>\n",
       "    <tr>\n",
       "      <th>61</th>\n",
       "      <td>2021-06-18</td>\n",
       "      <td>CA</td>\n",
       "      <td>10.0</td>\n",
       "      <td>0.0</td>\n",
       "      <td>NaN</td>\n",
       "    </tr>\n",
       "    <tr>\n",
       "      <th>198</th>\n",
       "      <td>2020-12-04</td>\n",
       "      <td>CA</td>\n",
       "      <td>0.0</td>\n",
       "      <td>0.0</td>\n",
       "      <td>NaN</td>\n",
       "    </tr>\n",
       "    <tr>\n",
       "      <th>201</th>\n",
       "      <td>2020-11-27</td>\n",
       "      <td>CA</td>\n",
       "      <td>0.0</td>\n",
       "      <td>0.0</td>\n",
       "      <td>NaN</td>\n",
       "    </tr>\n",
       "    <tr>\n",
       "      <th>205</th>\n",
       "      <td>2020-11-20</td>\n",
       "      <td>CA</td>\n",
       "      <td>0.0</td>\n",
       "      <td>0.0</td>\n",
       "      <td>NaN</td>\n",
       "    </tr>\n",
       "    <tr>\n",
       "      <th>208</th>\n",
       "      <td>2020-11-06</td>\n",
       "      <td>CA</td>\n",
       "      <td>0.0</td>\n",
       "      <td>0.0</td>\n",
       "      <td>NaN</td>\n",
       "    </tr>\n",
       "    <tr>\n",
       "      <th>88987</th>\n",
       "      <td>2021-07-09</td>\n",
       "      <td>CA</td>\n",
       "      <td>10.0</td>\n",
       "      <td>0.0</td>\n",
       "      <td>NaN</td>\n",
       "    </tr>\n",
       "    <tr>\n",
       "      <th>93286</th>\n",
       "      <td>2021-07-23</td>\n",
       "      <td>CA</td>\n",
       "      <td>10.0</td>\n",
       "      <td>0.0</td>\n",
       "      <td>NaN</td>\n",
       "    </tr>\n",
       "    <tr>\n",
       "      <th>95752</th>\n",
       "      <td>2021-07-16</td>\n",
       "      <td>CA</td>\n",
       "      <td>10.0</td>\n",
       "      <td>5.0</td>\n",
       "      <td>NaN</td>\n",
       "    </tr>\n",
       "    <tr>\n",
       "      <th>102306</th>\n",
       "      <td>2021-06-25</td>\n",
       "      <td>CA</td>\n",
       "      <td>10.0</td>\n",
       "      <td>4.2</td>\n",
       "      <td>NaN</td>\n",
       "    </tr>\n",
       "    <tr>\n",
       "      <th>268337</th>\n",
       "      <td>2020-11-13</td>\n",
       "      <td>CA</td>\n",
       "      <td>0.0</td>\n",
       "      <td>0.0</td>\n",
       "      <td>NaN</td>\n",
       "    </tr>\n",
       "    <tr>\n",
       "      <th>279980</th>\n",
       "      <td>2020-10-30</td>\n",
       "      <td>CA</td>\n",
       "      <td>0.0</td>\n",
       "      <td>0.0</td>\n",
       "      <td>NaN</td>\n",
       "    </tr>\n",
       "    <tr>\n",
       "      <th>289105</th>\n",
       "      <td>2020-10-23</td>\n",
       "      <td>CA</td>\n",
       "      <td>0.0</td>\n",
       "      <td>0.0</td>\n",
       "      <td>NaN</td>\n",
       "    </tr>\n",
       "  </tbody>\n",
       "</table>\n",
       "</div>"
      ],
      "text/plain": [
       "       collection_week state  inpatient_beds_7_day_avg  \\\n",
       "56          2021-07-02    CA                      10.0   \n",
       "61          2021-06-18    CA                      10.0   \n",
       "198         2020-12-04    CA                       0.0   \n",
       "201         2020-11-27    CA                       0.0   \n",
       "205         2020-11-20    CA                       0.0   \n",
       "208         2020-11-06    CA                       0.0   \n",
       "88987       2021-07-09    CA                      10.0   \n",
       "93286       2021-07-23    CA                      10.0   \n",
       "95752       2021-07-16    CA                      10.0   \n",
       "102306      2021-06-25    CA                      10.0   \n",
       "268337      2020-11-13    CA                       0.0   \n",
       "279980      2020-10-30    CA                       0.0   \n",
       "289105      2020-10-23    CA                       0.0   \n",
       "\n",
       "        inpatient_beds_used_7_day_avg  inpatient_beds_used_covid_7_day_avg  \n",
       "56                                0.0                                  NaN  \n",
       "61                                0.0                                  NaN  \n",
       "198                               0.0                                  NaN  \n",
       "201                               0.0                                  NaN  \n",
       "205                               0.0                                  NaN  \n",
       "208                               0.0                                  NaN  \n",
       "88987                             0.0                                  NaN  \n",
       "93286                             0.0                                  NaN  \n",
       "95752                             5.0                                  NaN  \n",
       "102306                            4.2                                  NaN  \n",
       "268337                            0.0                                  NaN  \n",
       "279980                            0.0                                  NaN  \n",
       "289105                            0.0                                  NaN  "
      ]
     },
     "execution_count": 32,
     "metadata": {},
     "output_type": "execute_result"
    }
   ],
   "source": [
    "hospital_ca.loc[hospital_ca.inpatient_beds_used_covid_7_day_avg.isna(), :]"
   ]
  },
  {
   "cell_type": "markdown",
   "id": "29381d28",
   "metadata": {},
   "source": [
    "It looks like most of the missing values for covid occupancy are tied to records where total occupancy is zero. For those records I will set covid occupancy to zero, I will drop the remaining 5."
   ]
  },
  {
   "cell_type": "code",
   "execution_count": 33,
   "id": "ef9404c6",
   "metadata": {},
   "outputs": [],
   "source": [
    "hospital_ca.loc[(hospital_ca.inpatient_beds_used_covid_7_day_avg.isna()) & (~hospital_ca.inpatient_beds_7_day_avg.isna()), 'inpatient_beds_used_covid_7_day_avg'] = 0"
   ]
  },
  {
   "cell_type": "code",
   "execution_count": 34,
   "id": "2d7717b1",
   "metadata": {},
   "outputs": [],
   "source": [
    "# Drop all remaing NA values\n",
    "hospital_ca.dropna(inplace=True)"
   ]
  },
  {
   "cell_type": "code",
   "execution_count": 35,
   "id": "d1db25e3",
   "metadata": {},
   "outputs": [
    {
     "name": "stdout",
     "output_type": "stream",
     "text": [
      "<class 'pandas.core.frame.DataFrame'>\n",
      "Index: 70 entries, 2020-07-31 to 2021-11-26\n",
      "Data columns (total 3 columns):\n",
      " #   Column                               Non-Null Count  Dtype  \n",
      "---  ------                               --------------  -----  \n",
      " 0   inpatient_beds_7_day_avg             70 non-null     float64\n",
      " 1   inpatient_beds_used_7_day_avg        70 non-null     float64\n",
      " 2   inpatient_beds_used_covid_7_day_avg  70 non-null     float64\n",
      "dtypes: float64(3)\n",
      "memory usage: 2.2+ KB\n"
     ]
    }
   ],
   "source": [
    "hospital_ca = hospital_ca.groupby('collection_week').sum()\n",
    "hospital_ca.info()"
   ]
  },
  {
   "cell_type": "code",
   "execution_count": 36,
   "id": "3d048640",
   "metadata": {},
   "outputs": [],
   "source": [
    "# Rename columns for clarity\n",
    "hospital_ca.rename(columns={'inpatient_beds_7_day_avg':'bed_availability', 'inpatient_beds_used_7_day_avg':'total_occupancy', 'inpatient_beds_used_covid_7_day_avg':'covid_occupancy'}, inplace=True)\n",
    "\n",
    "# Add ratios for general and covid occupancy\n",
    "hospital_ca['covid_rato'] = hospital_ca.covid_occupancy / hospital_ca.bed_availability\n",
    "hospital_ca['total_ratio'] = hospital_ca.total_occupancy / hospital_ca.bed_availability"
   ]
  },
  {
   "cell_type": "code",
   "execution_count": 37,
   "id": "33e50aca",
   "metadata": {},
   "outputs": [],
   "source": [
    "hospital_ca.fillna(value=0, inplace=True)"
   ]
  },
  {
   "cell_type": "code",
   "execution_count": 38,
   "id": "a51a798d",
   "metadata": {},
   "outputs": [],
   "source": [
    "hospital_ca.sort_values(by='collection_week', inplace=True)"
   ]
  },
  {
   "cell_type": "code",
   "execution_count": 39,
   "id": "f7fd6415",
   "metadata": {},
   "outputs": [
    {
     "data": {
      "text/plain": [
       "(                 bed_availability  total_occupancy  covid_occupancy  \\\n",
       " collection_week                                                       \n",
       " 2020-07-31                60201.6          42903.1           7462.9   \n",
       " 2020-08-07                59538.2          42066.2           6655.3   \n",
       " 2020-08-14                60508.3          43090.1           6261.2   \n",
       " 2020-08-21                60925.3          42931.7           5554.5   \n",
       " 2020-08-28                60667.6          42253.6           4689.8   \n",
       " \n",
       "                  covid_rato  total_ratio  \n",
       " collection_week                           \n",
       " 2020-07-31         0.123965     0.712657  \n",
       " 2020-08-07         0.111782     0.706541  \n",
       " 2020-08-14         0.103477     0.712135  \n",
       " 2020-08-21         0.091169     0.704661  \n",
       " 2020-08-28         0.077303     0.696477  ,\n",
       "                  bed_availability  total_occupancy  covid_occupancy  \\\n",
       " collection_week                                                       \n",
       " 2021-10-29                60332.6          47203.8           4064.1   \n",
       " 2021-11-05                60457.2          47184.1           3813.0   \n",
       " 2021-11-12                59943.7          46860.6           3545.3   \n",
       " 2021-11-19                59460.0          46073.9           3239.8   \n",
       " 2021-11-26                59626.5          45518.1           3287.4   \n",
       " \n",
       "                  covid_rato  total_ratio  \n",
       " collection_week                           \n",
       " 2021-10-29         0.067362     0.782393  \n",
       " 2021-11-05         0.063069     0.780455  \n",
       " 2021-11-12         0.059144     0.781744  \n",
       " 2021-11-19         0.054487     0.774872  \n",
       " 2021-11-26         0.055133     0.763387  )"
      ]
     },
     "execution_count": 39,
     "metadata": {},
     "output_type": "execute_result"
    }
   ],
   "source": [
    "hospital_ca.head(), hospital_ca.tail()"
   ]
  },
  {
   "cell_type": "code",
   "execution_count": 40,
   "id": "922981ed",
   "metadata": {},
   "outputs": [
    {
     "data": {
      "text/html": [
       "<div>\n",
       "<style scoped>\n",
       "    .dataframe tbody tr th:only-of-type {\n",
       "        vertical-align: middle;\n",
       "    }\n",
       "\n",
       "    .dataframe tbody tr th {\n",
       "        vertical-align: top;\n",
       "    }\n",
       "\n",
       "    .dataframe thead th {\n",
       "        text-align: right;\n",
       "    }\n",
       "</style>\n",
       "<table border=\"1\" class=\"dataframe\">\n",
       "  <thead>\n",
       "    <tr style=\"text-align: right;\">\n",
       "      <th></th>\n",
       "      <th>state</th>\n",
       "      <th>cases</th>\n",
       "      <th>deaths</th>\n",
       "      <th>new_cases</th>\n",
       "      <th>pct_change</th>\n",
       "      <th>seven_day_ave</th>\n",
       "    </tr>\n",
       "    <tr>\n",
       "      <th>date</th>\n",
       "      <th></th>\n",
       "      <th></th>\n",
       "      <th></th>\n",
       "      <th></th>\n",
       "      <th></th>\n",
       "      <th></th>\n",
       "    </tr>\n",
       "  </thead>\n",
       "  <tbody>\n",
       "    <tr>\n",
       "      <th>2022-05-09</th>\n",
       "      <td>California</td>\n",
       "      <td>9297615</td>\n",
       "      <td>90712.0</td>\n",
       "      <td>7060.0</td>\n",
       "      <td>0.000760</td>\n",
       "      <td>8700.000000</td>\n",
       "    </tr>\n",
       "    <tr>\n",
       "      <th>2022-05-10</th>\n",
       "      <td>California</td>\n",
       "      <td>9322169</td>\n",
       "      <td>90822.0</td>\n",
       "      <td>24554.0</td>\n",
       "      <td>0.002641</td>\n",
       "      <td>8728.285714</td>\n",
       "    </tr>\n",
       "    <tr>\n",
       "      <th>2022-05-11</th>\n",
       "      <td>California</td>\n",
       "      <td>9325522</td>\n",
       "      <td>90804.0</td>\n",
       "      <td>3353.0</td>\n",
       "      <td>0.000360</td>\n",
       "      <td>10179.166667</td>\n",
       "    </tr>\n",
       "    <tr>\n",
       "      <th>2022-05-12</th>\n",
       "      <td>California</td>\n",
       "      <td>9329044</td>\n",
       "      <td>90818.0</td>\n",
       "      <td>3522.0</td>\n",
       "      <td>0.000378</td>\n",
       "      <td>12215.000000</td>\n",
       "    </tr>\n",
       "    <tr>\n",
       "      <th>2022-05-13</th>\n",
       "      <td>California</td>\n",
       "      <td>9351630</td>\n",
       "      <td>90959.0</td>\n",
       "      <td>22586.0</td>\n",
       "      <td>0.002421</td>\n",
       "      <td>13503.750000</td>\n",
       "    </tr>\n",
       "  </tbody>\n",
       "</table>\n",
       "</div>"
      ],
      "text/plain": [
       "                 state    cases   deaths  new_cases  pct_change  seven_day_ave\n",
       "date                                                                          \n",
       "2022-05-09  California  9297615  90712.0     7060.0    0.000760    8700.000000\n",
       "2022-05-10  California  9322169  90822.0    24554.0    0.002641    8728.285714\n",
       "2022-05-11  California  9325522  90804.0     3353.0    0.000360   10179.166667\n",
       "2022-05-12  California  9329044  90818.0     3522.0    0.000378   12215.000000\n",
       "2022-05-13  California  9351630  90959.0    22586.0    0.002421   13503.750000"
      ]
     },
     "execution_count": 40,
     "metadata": {},
     "output_type": "execute_result"
    }
   ],
   "source": [
    "ca_data.tail()"
   ]
  },
  {
   "cell_type": "markdown",
   "id": "00b6246a",
   "metadata": {},
   "source": [
    "## Resample the covid infection data on weekly basis to match hospital data for modeling"
   ]
  },
  {
   "cell_type": "code",
   "execution_count": 41,
   "id": "15691fb8",
   "metadata": {},
   "outputs": [],
   "source": [
    "covid_ca_resample = ca_data.loc['2020-07-31':]\n",
    "covid_ca_resample = covid_ca_resample.resample(rule='W-FRI', convention='start').mean()"
   ]
  },
  {
   "cell_type": "code",
   "execution_count": 42,
   "id": "ff032bc5",
   "metadata": {},
   "outputs": [
    {
     "data": {
      "text/plain": [
       "(                    cases        deaths    new_cases  pct_change  \\\n",
       " date                                                               \n",
       " 2020-07-31  502273.000000   9222.000000  8004.000000    0.016194   \n",
       " 2020-08-07  528124.000000   9719.571429  6552.714286    0.012564   \n",
       " 2020-08-14  584471.285714  10675.285714  9300.142857    0.016165   \n",
       " 2020-08-21  640873.285714  11543.142857  6678.285714    0.010552   \n",
       " 2020-08-28  681827.428571  12432.428571  5485.714286    0.008112   \n",
       " \n",
       "             seven_day_ave  \n",
       " date                       \n",
       " 2020-07-31    7876.000000  \n",
       " 2020-08-07    6890.755102  \n",
       " 2020-08-14    8984.734694  \n",
       " 2020-08-21    6714.857143  \n",
       " 2020-08-28    5526.142857  ,\n",
       "                    cases        deaths    new_cases  pct_change  seven_day_ave\n",
       " date                                                                          \n",
       " 2022-04-15  9.140139e+06  89541.714286  3774.857143    0.000413    3546.367347\n",
       " 2022-04-22  9.170375e+06  89872.857143  4970.285714    0.000542    4846.836735\n",
       " 2022-04-29  9.209901e+06  90208.571429  6269.428571    0.000681    6205.510204\n",
       " 2022-05-06  9.257635e+06  90525.428571  7630.571429    0.000824    7400.428571\n",
       " 2022-05-13  9.315299e+06  90789.285714  8728.285714    0.000937   10070.232993)"
      ]
     },
     "execution_count": 42,
     "metadata": {},
     "output_type": "execute_result"
    }
   ],
   "source": [
    "covid_ca_resample.head(), covid_ca_resample.tail()"
   ]
  },
  {
   "cell_type": "code",
   "execution_count": 43,
   "id": "ee3e695d",
   "metadata": {},
   "outputs": [],
   "source": [
    "covid_ca_resample.drop(index='2021-12-03', inplace=True)"
   ]
  },
  {
   "cell_type": "code",
   "execution_count": 44,
   "id": "e8e271dc",
   "metadata": {},
   "outputs": [],
   "source": [
    "covid_ca_resample.to_csv(r'C:\\Users\\blake\\Documents\\Springboard\\Github\\Capstone2\\Covid_Final\\Capstone_2_Covid_TimeSeries\\data\\cleaned\\Wrangled_CA_resample.csv')\n",
    "hospital_ca.to_csv(r'C:\\Users\\blake\\Documents\\Springboard\\Github\\Capstone2\\Covid_Final\\Capstone_2_Covid_TimeSeries\\data\\cleaned\\Wrangled_CA_hospitals.csv')"
   ]
  },
  {
   "cell_type": "code",
   "execution_count": null,
   "id": "d56f813b",
   "metadata": {},
   "outputs": [],
   "source": []
  }
 ],
 "metadata": {
  "kernelspec": {
   "display_name": "capstone2_venv",
   "language": "python",
   "name": "capstone2_venv"
  },
  "language_info": {
   "codemirror_mode": {
    "name": "ipython",
    "version": 3
   },
   "file_extension": ".py",
   "mimetype": "text/x-python",
   "name": "python",
   "nbconvert_exporter": "python",
   "pygments_lexer": "ipython3",
   "version": "3.9.7"
  }
 },
 "nbformat": 4,
 "nbformat_minor": 5
}
